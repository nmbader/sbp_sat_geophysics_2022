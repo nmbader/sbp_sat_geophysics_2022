{
 "cells": [
  {
   "cell_type": "markdown",
   "metadata": {},
   "source": [
    "# Simulation using Devito with single elastic domain on staggered grid\n",
    "\n",
    "### Note: this notebook has been tested within the docker only. It it needs to be run outside of the docker, the user must install Devito beforehand (https://github.com/devitocodes/devito).\n",
    "\n",
    "Devito implementation follows the method described in:\n",
    "\n",
    "[1] Jean Virieux (1986). ”P-SV wave propagation in heterogeneous media: Velocity‐stress finite‐difference method.” GEOPHYSICS, 51(4), 889-901. https://doi.org/10.1190/1.1442147\n",
    "\n",
    "The current version actually attempts to mirror the FDELMODC implementation by Jan Thorbecke:\n",
    "\n",
    "[2] https://janth.home.xs4all.nl/Software/fdelmodcManual.pdf"
   ]
  },
  {
   "cell_type": "code",
   "execution_count": 1,
   "metadata": {},
   "outputs": [],
   "source": [
    "from devito import *\n",
    "from examples.seismic.source import RickerSource, Receiver, TimeAxis\n",
    "from examples.seismic import SeismicModel, plot_image, demo_model\n",
    "import numpy as np\n",
    "from scipy import signal\n",
    "from scipy import ndimage\n",
    "import math\n",
    "import matplotlib.pyplot as plt\n",
    "from matplotlib import rcParams\n",
    "\n",
    "from sympy import init_printing, latex\n",
    "init_printing(use_latex='mathjax')"
   ]
  },
  {
   "cell_type": "code",
   "execution_count": 2,
   "metadata": {},
   "outputs": [],
   "source": [
    "# Create directories to store data and figures\n",
    "!mkdir -p ../dat ../fig"
   ]
  },
  {
   "cell_type": "code",
   "execution_count": 3,
   "metadata": {
    "scrolled": false
   },
   "outputs": [
    {
     "name": "stderr",
     "output_type": "stream",
     "text": [
      "Operator `pad_lam` ran in 0.01 s\n",
      "Operator `pad_mu` ran in 0.01 s\n",
      "Operator `pad_b` ran in 0.01 s\n"
     ]
    }
   ],
   "source": [
    "# Model grid: 6000 m x 4080 m, with spacing 5 m\n",
    "xmax=6000.\n",
    "zmax=4080. + 1000.\n",
    "dx=5.\n",
    "dz=5.\n",
    "nx=1201\n",
    "nz=817 + 200\n",
    "nza=240\n",
    "\n",
    "sx=2400.\n",
    "sz=1120\n",
    "rx=3440\n",
    "rz=1200\n",
    "\n",
    "extent = (xmax, zmax)\n",
    "shape = (nx, nz)\n",
    "spacing= (dx,dz)\n",
    "\n",
    "# full model (acoustic on top then elastic)\n",
    "aemodel=np.zeros((3,nx,nz))\n",
    "\n",
    "vpa=1.5\n",
    "vsa=0.\n",
    "rhoa=1.\n",
    "vpe=3.\n",
    "vse=1.\n",
    "rhoe=2.5\n",
    "\n",
    "ka=rhoa*vpa**2\n",
    "mua=0.\n",
    "mue=rhoe*vse**2\n",
    "ke=rhoe*vpe**2-4./3.*mue\n",
    "\n",
    "kavg=2./(1./ka + 1./ke)\n",
    "muavg=0.\n",
    "rhoavg=0.5*(rhoa+rhoe)\n",
    "\n",
    "vpavg=math.sqrt((kavg+4./3.*muavg)/rhoavg)\n",
    "vsavg=math.sqrt(muavg/rhoavg)\n",
    "\n",
    "# elastic layer\n",
    "aemodel[0,:,:]=vpe # Vp in km/s\n",
    "aemodel[1,:,:]=vse # Vs in km/s\n",
    "aemodel[2,:,:]=rhoe # Density in g/cc\n",
    "\n",
    "# # acoustic layer\n",
    "aemodel[0,:,:nza]=vpa\n",
    "aemodel[1,:,:nza]=vsa\n",
    "aemodel[2,:,:nza]=rhoa\n",
    "\n",
    "# # values at the interface same as the fluid\n",
    "aemodel[0,:,nza]=vpa\n",
    "aemodel[1,:,nza]=vsa\n",
    "aemodel[2,:,nza]=rhoa\n",
    "\n",
    "mu = aemodel[2,:,:] * aemodel[1,:,:]*aemodel[1,:,:]\n",
    "lam = aemodel[2,:,:] * aemodel[0,:,:]*aemodel[0,:,:] - 2*mu\n",
    "b = 1/aemodel[2,:,:]\n",
    "\n",
    "so = 4\n",
    "to = 2\n",
    "\n",
    "origin=(0.,0.)\n",
    "nbl=0\n",
    "model = SeismicModel(origin=origin, vp=aemodel[0,:,:], vs=aemodel[1,:,:], b=b,shape=shape, spacing=spacing, space_order=so, nbl=0)"
   ]
  },
  {
   "cell_type": "code",
   "execution_count": 4,
   "metadata": {},
   "outputs": [],
   "source": [
    "# Source wavelet (derivative of Ricker)\n",
    "nt=5001\n",
    "dt=0.5 # ms\n",
    "#dt=model.critical_dt\n",
    "ot=0.\n",
    "\n",
    "# create dummy source\n",
    "t0, tn = ot, (nt-1)*dt\n",
    "time_range = TimeAxis(start=t0, stop=tn, step=dt)\n",
    "src = RickerSource(name='src', grid=model.grid, f0=0.015, time_range=time_range)\n",
    "\n",
    "# create the actual source and replace the dummy one\n",
    "wc=0.01\n",
    "sigma=math.sqrt(2)/(math.pi*wc)\n",
    "src1 = signal.ricker(2*nt-1, sigma)\n",
    "src1=src1[4750:4750+nt]\n",
    "src1=src1*1.0/np.max(src1)\n",
    "# divide by 25 (element surface to account for delta function) \n",
    "# and multiply by 1.5^2 (velocity squared)\n",
    "# Additional factor of 1000 is needed (ms vs sec)\n",
    "# this is needed to compare with SBP-SAT which solves the second order potential equation\n",
    "src1=src1*1000*vpa**2/(dx*dz)\n",
    "src.data[:,0] = src1[:]\n",
    "\n",
    "# source location in meters\n",
    "src.coordinates.data[:] = [sx, sz]"
   ]
  },
  {
   "cell_type": "code",
   "execution_count": 5,
   "metadata": {
    "scrolled": false
   },
   "outputs": [
    {
     "data": {
      "image/png": "[encoded data removed]",
      "text/plain": [
       "<Figure size 576x432 with 1 Axes>"
      ]
     },
     "metadata": {
      "needs_background": "light"
     },
     "output_type": "display_data"
    }
   ],
   "source": [
    "plt.plot(np.linspace(ot,(nt-1)*dt,nt),src.data[:,0])\n",
    "plt.xlabel(\"Time (ms)\")\n",
    "plt.ylabel(\"Amplitude\")\n",
    "plt.show()"
   ]
  },
  {
   "cell_type": "code",
   "execution_count": 6,
   "metadata": {},
   "outputs": [],
   "source": [
    "x, z = model.grid.dimensions\n",
    "t = model.grid.stepping_dim\n",
    "time = model.grid.time_dim\n",
    "s = time.spacing\n",
    "\n",
    "v = VectorTimeFunction(name='v', grid=model.grid, space_order=so, time_order=to)\n",
    "tau = TensorTimeFunction(name='t', grid=model.grid, space_order=so, time_order=to)"
   ]
  },
  {
   "cell_type": "code",
   "execution_count": 7,
   "metadata": {},
   "outputs": [],
   "source": [
    "# define the free surface\n",
    "def freesurface_top(tau, v, model):\n",
    "    time = model.grid.stepping_dim\n",
    "    pos = int(max(tau.space_order, v.space_order)/2)\n",
    "    \n",
    "    bc_tau1 = [Eq(tau[0,0][time+1, x, 0], 0.) ]\n",
    "    bc_tau2 = [Eq(tau[1,1][time+1, x, 0], 0.) ]\n",
    "    \n",
    "    return  bc_tau1 + bc_tau2\n",
    "\n",
    "bc = freesurface_top(tau, v, model)"
   ]
  },
  {
   "cell_type": "code",
   "execution_count": 8,
   "metadata": {},
   "outputs": [],
   "source": [
    "# The source injection term\n",
    "src_xx = src.inject(field=tau.forward[0, 0], expr=dt*src)\n",
    "src_zz = src.inject(field=tau.forward[1, 1], expr=dt*src)\n",
    "\n",
    "# The receiver\n",
    "nrec = 1\n",
    "rec1 = Receiver(name=\"rec1\", grid=model.grid, npoint=nrec, time_range=time_range)\n",
    "rec1.coordinates.data[0, 0] = rx\n",
    "rec1.coordinates.data[0, 1] = rz\n",
    "\n",
    "rec2 = Receiver(name=\"rec2\", grid=model.grid, npoint=nrec, time_range=time_range)\n",
    "rec2.coordinates.data[0, 0] = rx\n",
    "rec2.coordinates.data[0, 1] = rz\n",
    "\n",
    "rec3 = Receiver(name=\"rec3\", grid=model.grid, npoint=nrec, time_range=time_range)\n",
    "rec3.coordinates.data[0, 0] = rx\n",
    "rec3.coordinates.data[0, 1] = rz\n",
    "\n",
    "rec_term = rec1.interpolate(expr=tau[0, 0]) # xx component of the stress tensor (= - pressure)\n",
    "rec_term += rec2.interpolate(expr=v[0]) # horizontal particle velocity\n",
    "rec_term += rec3.interpolate(expr=v[1]) # vertical particle velocity"
   ]
  },
  {
   "cell_type": "code",
   "execution_count": 9,
   "metadata": {},
   "outputs": [],
   "source": [
    "# Now let's try and create the staggered updates\n",
    "# Lame parameters\n",
    "l, mu, ro = model.lam, model.mu, model.b\n",
    "\n",
    "# First order elastic wave equation\n",
    "pde_v = v.dt - ro * div(tau)\n",
    "pde_tau = tau.dt - l * diag(div(v.forward)) - mu * (grad(v.forward) + grad(v.forward).T)\n",
    "# Time update\n",
    "u_v = Eq(v.forward, model.damp * solve(pde_v, v.forward))\n",
    "u_t = Eq(tau.forward,  model.damp * solve(pde_tau, tau.forward))\n",
    "\n",
    "op = Operator([u_v] + [u_t] + bc + src_xx + src_zz + rec_term)"
   ]
  },
  {
   "cell_type": "code",
   "execution_count": 10,
   "metadata": {
    "scrolled": false
   },
   "outputs": [
    {
     "name": "stderr",
     "output_type": "stream",
     "text": [
      "Operator `Kernel` ran in 29.18 s\n"
     ]
    },
    {
     "data": {
      "text/plain": [
       "PerformanceSummary([(PerfKey(name='section0', rank=None),\n",
       "  PerfEntry(time=28.21787900000002, gflopss=0.0, gpointss=0.0, oi=0.0, ops=0, itershapes=[])),\n",
       " (PerfKey(name='section1', rank=None),\n",
       "  PerfEntry(time=0.34123999999999677, gflopss=0.0, gpointss=0.0, oi=0.0, ops=0, itershapes=[])),\n",
       " (PerfKey(name='section2', rank=None),\n",
       "  PerfEntry(time=0.23505300000000828, gflopss=0.0, gpointss=0.0, oi=0.0, ops=0, itershapes=[])),\n",
       " (PerfKey(name='section3', rank=None),\n",
       "  PerfEntry(time=0.22528900000000798, gflopss=0.0, gpointss=0.0, oi=0.0, ops=0, itershapes=[])),\n",
       " (PerfKey(name='section4', rank=None),\n",
       "  PerfEntry(time=0.1536750000000062, gflopss=0.0, gpointss=0.0, oi=0.0, ops=0, itershapes=[]))])"
      ]
     },
     "execution_count": 10,
     "metadata": {},
     "output_type": "execute_result"
    }
   ],
   "source": [
    "op.apply(dt=dt)\n",
    "#op.apply(dt=dt, time_M=1000)"
   ]
  },
  {
   "cell_type": "code",
   "execution_count": 11,
   "metadata": {},
   "outputs": [],
   "source": [
    "# save to numpy\n",
    "allrec=np.zeros((3,nt))\n",
    "allrec[0] = -np.transpose(rec1.data)\n",
    "allrec[1] = np.transpose(rec2.data)\n",
    "allrec[2] = np.transpose(rec3.data)\n",
    "np.save('../dat/devito2',allrec)"
   ]
  }
 ],
 "metadata": {
  "@webio": {
   "lastCommId": null,
   "lastKernelId": null
  },
  "hide_input": false,
  "kernelspec": {
   "display_name": "Python 3",
   "language": "python",
   "name": "python3"
  },
  "language_info": {
   "codemirror_mode": {
    "name": "ipython",
    "version": 3
   },
   "file_extension": ".py",
   "mimetype": "text/x-python",
   "name": "python",
   "nbconvert_exporter": "python",
   "pygments_lexer": "ipython3",
   "version": "3.6.9"
  },
  "latex_envs": {
   "LaTeX_envs_menu_present": true,
   "autoclose": false,
   "autocomplete": true,
   "bibliofile": "biblio.bib",
   "cite_by": "apalike",
   "current_citInitial": 1,
   "eqLabelWithNumbers": true,
   "eqNumInitial": 1,
   "hotkeys": {
    "equation": "Ctrl-E",
    "itemize": "Ctrl-I"
   },
   "labels_anchors": false,
   "latex_user_defs": false,
   "report_style_numbering": false,
   "user_envs_cfg": false
  },
  "widgets": {
   "state": {},
   "version": "1.1.2"
  }
 },
 "nbformat": 4,
 "nbformat_minor": 2
}
